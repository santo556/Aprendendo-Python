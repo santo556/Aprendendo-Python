{
 "cells": [
  {
   "cell_type": "code",
   "execution_count": 1,
   "metadata": {},
   "outputs": [
    {
     "name": "stdout",
     "output_type": "stream",
     "text": [
      "Olá, Novo Mundo!\n",
      "Muito obrigado pelas informações. O seu nome é André sua idade é 41 e o ano de seu nascimento é 1981. Correto! \n"
     ]
    }
   ],
   "source": [
    "print('Olá, Novo Mundo!')\n",
    "nome = input('Digite seu nome: ')\n",
    "idade = input('Agora informe sua idade: ')\n",
    "ano = input('Para finalizar digite ano de seu nascimento: ')\n",
    "print('Muito obrigado pelas informações. O seu nome é {} sua idade é {} e o ano de seu nascimento é {}. Correto! '.format(nome, idade, ano))\n"
   ]
  }
 ],
 "metadata": {
  "interpreter": {
   "hash": "916dbcbb3f70747c44a77c7bcd40155683ae19c65e1c03b4aa3499c5328201f1"
  },
  "kernelspec": {
   "display_name": "Python 3.10.4 64-bit",
   "language": "python",
   "name": "python3"
  },
  "language_info": {
   "codemirror_mode": {
    "name": "ipython",
    "version": 3
   },
   "file_extension": ".py",
   "mimetype": "text/x-python",
   "name": "python",
   "nbconvert_exporter": "python",
   "pygments_lexer": "ipython3",
   "version": "3.10.4"
  },
  "orig_nbformat": 4
 },
 "nbformat": 4,
 "nbformat_minor": 2
}
